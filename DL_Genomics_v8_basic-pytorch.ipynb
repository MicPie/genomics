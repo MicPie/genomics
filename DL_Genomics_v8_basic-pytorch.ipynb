{
 "cells": [
  {
   "cell_type": "markdown",
   "metadata": {},
   "source": [
    "# Deep learning in genomics - Basic model with PyTorch"
   ]
  },
  {
   "cell_type": "markdown",
   "metadata": {},
   "source": [
    "This notebook is based on the [jupyter notebook](https://nbviewer.jupyter.org/github/abidlabs/deep-learning-genomics-primer/blob/master/A_Primer_on_Deep_Learning_in_Genomics_Public.ipynb) from the publication [\"A primer on deep learning in genomics\"](https://www.nature.com/articles/s41588-018-0295-5) but uses the [PyTorch](https://pytorch.org) library."
   ]
  },
  {
   "cell_type": "markdown",
   "metadata": {},
   "source": [
    "# Notebook setup"
   ]
  },
  {
   "cell_type": "code",
   "execution_count": 1,
   "metadata": {},
   "outputs": [],
   "source": [
    "%reload_ext autoreload\n",
    "%autoreload 2\n",
    "%matplotlib inline"
   ]
  },
  {
   "cell_type": "code",
   "execution_count": 2,
   "metadata": {},
   "outputs": [],
   "source": [
    "from fastai import *\n",
    "from fastai.vision import *"
   ]
  },
  {
   "cell_type": "code",
   "execution_count": 3,
   "metadata": {},
   "outputs": [],
   "source": [
    "from sklearn.preprocessing import LabelEncoder, OneHotEncoder"
   ]
  },
  {
   "cell_type": "code",
   "execution_count": 4,
   "metadata": {},
   "outputs": [],
   "source": [
    "import pdb"
   ]
  },
  {
   "cell_type": "code",
   "execution_count": 51,
   "metadata": {},
   "outputs": [],
   "source": [
    "from sklearn.metrics import confusion_matrix"
   ]
  },
  {
   "cell_type": "code",
   "execution_count": 5,
   "metadata": {},
   "outputs": [
    {
     "data": {
      "text/plain": [
       "'1.0.39.dev0'"
      ]
     },
     "execution_count": 5,
     "metadata": {},
     "output_type": "execute_result"
    }
   ],
   "source": [
    "# fastai version\n",
    "__version__"
   ]
  },
  {
   "cell_type": "markdown",
   "metadata": {},
   "source": [
    "# Data setup"
   ]
  },
  {
   "cell_type": "markdown",
   "metadata": {
    "heading_collapsed": true
   },
   "source": [
    "## Load data from the web, generate dataframe, and save to disk"
   ]
  },
  {
   "cell_type": "code",
   "execution_count": 52,
   "metadata": {
    "hidden": true
   },
   "outputs": [],
   "source": [
    "import requests"
   ]
  },
  {
   "cell_type": "code",
   "execution_count": 53,
   "metadata": {
    "hidden": true
   },
   "outputs": [],
   "source": [
    "URL_seq = 'https://raw.githubusercontent.com/abidlabs/deep-learning-genomics-primer/master/sequences.txt'"
   ]
  },
  {
   "cell_type": "code",
   "execution_count": 54,
   "metadata": {
    "hidden": true
   },
   "outputs": [],
   "source": [
    "# get sequence data from URL\n",
    "seq_raw = requests.get(URL_seq).text.split('\\n')\n",
    "seq_raw = list(filter(None, seq_raw)) # Removes empty lists"
   ]
  },
  {
   "cell_type": "code",
   "execution_count": 55,
   "metadata": {
    "hidden": true
   },
   "outputs": [
    {
     "data": {
      "text/plain": [
       "2000"
      ]
     },
     "execution_count": 55,
     "metadata": {},
     "output_type": "execute_result"
    },
    {
     "data": {
      "text/plain": [
       "2000"
      ]
     },
     "execution_count": 55,
     "metadata": {},
     "output_type": "execute_result"
    }
   ],
   "source": [
    "# check length\n",
    "len(seq_raw)"
   ]
  },
  {
   "cell_type": "code",
   "execution_count": 56,
   "metadata": {
    "hidden": true
   },
   "outputs": [],
   "source": [
    "# setup df from list\n",
    "seq_df = pd.DataFrame(seq_raw, columns=['Sequences'])"
   ]
  },
  {
   "cell_type": "code",
   "execution_count": 57,
   "metadata": {
    "hidden": true
   },
   "outputs": [],
   "source": [
    "# show head of dataframe\n",
    "#seq_df.head()"
   ]
  },
  {
   "cell_type": "code",
   "execution_count": 58,
   "metadata": {
    "hidden": true
   },
   "outputs": [],
   "source": [
    "URL_labels = 'https://raw.githubusercontent.com/abidlabs/deep-learning-genomics-primer/master/labels.txt'"
   ]
  },
  {
   "cell_type": "code",
   "execution_count": 59,
   "metadata": {
    "hidden": true
   },
   "outputs": [],
   "source": [
    "# get sequence labels from URL\n",
    "seq_labels = requests.get(URL_labels).text.split('\\n')\n",
    "seq_labels = list(filter(None, seq_labels)) # Removes empty entries"
   ]
  },
  {
   "cell_type": "code",
   "execution_count": 60,
   "metadata": {
    "hidden": true
   },
   "outputs": [
    {
     "data": {
      "text/plain": [
       "2000"
      ]
     },
     "execution_count": 60,
     "metadata": {},
     "output_type": "execute_result"
    },
    {
     "data": {
      "text/plain": [
       "2000"
      ]
     },
     "execution_count": 60,
     "metadata": {},
     "output_type": "execute_result"
    }
   ],
   "source": [
    "# check length\n",
    "len(seq_labels)"
   ]
  },
  {
   "cell_type": "code",
   "execution_count": 61,
   "metadata": {
    "hidden": true
   },
   "outputs": [],
   "source": [
    "# setup pandas series\n",
    "seq_label_series = pd.Series(seq_labels)"
   ]
  },
  {
   "cell_type": "code",
   "execution_count": 62,
   "metadata": {
    "hidden": true
   },
   "outputs": [],
   "source": [
    "# add pandas series to pandas dataframe\n",
    "seq_df['Target'] = seq_label_series.astype('int')"
   ]
  },
  {
   "cell_type": "code",
   "execution_count": 63,
   "metadata": {
    "hidden": true
   },
   "outputs": [
    {
     "data": {
      "text/html": [
       "<div>\n",
       "<style scoped>\n",
       "    .dataframe tbody tr th:only-of-type {\n",
       "        vertical-align: middle;\n",
       "    }\n",
       "\n",
       "    .dataframe tbody tr th {\n",
       "        vertical-align: top;\n",
       "    }\n",
       "\n",
       "    .dataframe thead th {\n",
       "        text-align: right;\n",
       "    }\n",
       "</style>\n",
       "<table border=\"1\" class=\"dataframe\">\n",
       "  <thead>\n",
       "    <tr style=\"text-align: right;\">\n",
       "      <th></th>\n",
       "      <th>Sequences</th>\n",
       "      <th>Target</th>\n",
       "    </tr>\n",
       "  </thead>\n",
       "  <tbody>\n",
       "    <tr>\n",
       "      <th>0</th>\n",
       "      <td>CCGAGGGCTATGGTTTGGAAGTTAGAACCCTGGGGCTTCTCGCGGA...</td>\n",
       "      <td>0</td>\n",
       "    </tr>\n",
       "    <tr>\n",
       "      <th>1</th>\n",
       "      <td>GAGTTTATATGGCGCGAGCCTAGTGGTTTTTGTACTTGTTTGTCGC...</td>\n",
       "      <td>0</td>\n",
       "    </tr>\n",
       "    <tr>\n",
       "      <th>2</th>\n",
       "      <td>GATCAGTAGGGAAACAAACAGAGGGCCCAGCCACATCTAGCAGGTA...</td>\n",
       "      <td>0</td>\n",
       "    </tr>\n",
       "    <tr>\n",
       "      <th>3</th>\n",
       "      <td>GTCCACGACCGAACTCCCACCTTGACCGCAGAGGTACCACCAGAGC...</td>\n",
       "      <td>1</td>\n",
       "    </tr>\n",
       "    <tr>\n",
       "      <th>4</th>\n",
       "      <td>GGCGACCGAACTCCAACTAGAACCTGCATAACTGGCCTGGGAGATA...</td>\n",
       "      <td>1</td>\n",
       "    </tr>\n",
       "  </tbody>\n",
       "</table>\n",
       "</div>"
      ],
      "text/plain": [
       "                                           Sequences  Target\n",
       "0  CCGAGGGCTATGGTTTGGAAGTTAGAACCCTGGGGCTTCTCGCGGA...       0\n",
       "1  GAGTTTATATGGCGCGAGCCTAGTGGTTTTTGTACTTGTTTGTCGC...       0\n",
       "2  GATCAGTAGGGAAACAAACAGAGGGCCCAGCCACATCTAGCAGGTA...       0\n",
       "3  GTCCACGACCGAACTCCCACCTTGACCGCAGAGGTACCACCAGAGC...       1\n",
       "4  GGCGACCGAACTCCAACTAGAACCTGCATAACTGGCCTGGGAGATA...       1"
      ]
     },
     "execution_count": 63,
     "metadata": {},
     "output_type": "execute_result"
    },
    {
     "data": {
      "text/html": [
       "<div>\n",
       "<style scoped>\n",
       "    .dataframe tbody tr th:only-of-type {\n",
       "        vertical-align: middle;\n",
       "    }\n",
       "\n",
       "    .dataframe tbody tr th {\n",
       "        vertical-align: top;\n",
       "    }\n",
       "\n",
       "    .dataframe thead th {\n",
       "        text-align: right;\n",
       "    }\n",
       "</style>\n",
       "<table border=\"1\" class=\"dataframe\">\n",
       "  <thead>\n",
       "    <tr style=\"text-align: right;\">\n",
       "      <th></th>\n",
       "      <th>Sequences</th>\n",
       "      <th>Target</th>\n",
       "    </tr>\n",
       "  </thead>\n",
       "  <tbody>\n",
       "    <tr>\n",
       "      <th>0</th>\n",
       "      <td>CCGAGGGCTATGGTTTGGAAGTTAGAACCCTGGGGCTTCTCGCGGA...</td>\n",
       "      <td>0</td>\n",
       "    </tr>\n",
       "    <tr>\n",
       "      <th>1</th>\n",
       "      <td>GAGTTTATATGGCGCGAGCCTAGTGGTTTTTGTACTTGTTTGTCGC...</td>\n",
       "      <td>0</td>\n",
       "    </tr>\n",
       "    <tr>\n",
       "      <th>2</th>\n",
       "      <td>GATCAGTAGGGAAACAAACAGAGGGCCCAGCCACATCTAGCAGGTA...</td>\n",
       "      <td>0</td>\n",
       "    </tr>\n",
       "    <tr>\n",
       "      <th>3</th>\n",
       "      <td>GTCCACGACCGAACTCCCACCTTGACCGCAGAGGTACCACCAGAGC...</td>\n",
       "      <td>1</td>\n",
       "    </tr>\n",
       "    <tr>\n",
       "      <th>4</th>\n",
       "      <td>GGCGACCGAACTCCAACTAGAACCTGCATAACTGGCCTGGGAGATA...</td>\n",
       "      <td>1</td>\n",
       "    </tr>\n",
       "  </tbody>\n",
       "</table>\n",
       "</div>"
      ],
      "text/plain": [
       "                                           Sequences  Target\n",
       "0  CCGAGGGCTATGGTTTGGAAGTTAGAACCCTGGGGCTTCTCGCGGA...       0\n",
       "1  GAGTTTATATGGCGCGAGCCTAGTGGTTTTTGTACTTGTTTGTCGC...       0\n",
       "2  GATCAGTAGGGAAACAAACAGAGGGCCCAGCCACATCTAGCAGGTA...       0\n",
       "3  GTCCACGACCGAACTCCCACCTTGACCGCAGAGGTACCACCAGAGC...       1\n",
       "4  GGCGACCGAACTCCAACTAGAACCTGCATAACTGGCCTGGGAGATA...       1"
      ]
     },
     "execution_count": 63,
     "metadata": {},
     "output_type": "execute_result"
    }
   ],
   "source": [
    "# show head\n",
    "seq_df.head()"
   ]
  },
  {
   "cell_type": "code",
   "execution_count": 64,
   "metadata": {
    "hidden": true
   },
   "outputs": [],
   "source": [
    "# save to csv file\n",
    "seq_df.to_csv('seq_df.csv')"
   ]
  },
  {
   "cell_type": "markdown",
   "metadata": {},
   "source": [
    "## Data frame setup"
   ]
  },
  {
   "cell_type": "code",
   "execution_count": 6,
   "metadata": {},
   "outputs": [],
   "source": [
    "# load csv file into pandas data frame\n",
    "seq_df = pd.read_csv('seq_df.csv', index_col=0)"
   ]
  },
  {
   "cell_type": "code",
   "execution_count": 7,
   "metadata": {},
   "outputs": [
    {
     "data": {
      "text/html": [
       "<div>\n",
       "<style scoped>\n",
       "    .dataframe tbody tr th:only-of-type {\n",
       "        vertical-align: middle;\n",
       "    }\n",
       "\n",
       "    .dataframe tbody tr th {\n",
       "        vertical-align: top;\n",
       "    }\n",
       "\n",
       "    .dataframe thead th {\n",
       "        text-align: right;\n",
       "    }\n",
       "</style>\n",
       "<table border=\"1\" class=\"dataframe\">\n",
       "  <thead>\n",
       "    <tr style=\"text-align: right;\">\n",
       "      <th></th>\n",
       "      <th>Sequences</th>\n",
       "      <th>Target</th>\n",
       "    </tr>\n",
       "  </thead>\n",
       "  <tbody>\n",
       "    <tr>\n",
       "      <th>0</th>\n",
       "      <td>CCGAGGGCTATGGTTTGGAAGTTAGAACCCTGGGGCTTCTCGCGGA...</td>\n",
       "      <td>0</td>\n",
       "    </tr>\n",
       "    <tr>\n",
       "      <th>1</th>\n",
       "      <td>GAGTTTATATGGCGCGAGCCTAGTGGTTTTTGTACTTGTTTGTCGC...</td>\n",
       "      <td>0</td>\n",
       "    </tr>\n",
       "    <tr>\n",
       "      <th>2</th>\n",
       "      <td>GATCAGTAGGGAAACAAACAGAGGGCCCAGCCACATCTAGCAGGTA...</td>\n",
       "      <td>0</td>\n",
       "    </tr>\n",
       "    <tr>\n",
       "      <th>3</th>\n",
       "      <td>GTCCACGACCGAACTCCCACCTTGACCGCAGAGGTACCACCAGAGC...</td>\n",
       "      <td>1</td>\n",
       "    </tr>\n",
       "    <tr>\n",
       "      <th>4</th>\n",
       "      <td>GGCGACCGAACTCCAACTAGAACCTGCATAACTGGCCTGGGAGATA...</td>\n",
       "      <td>1</td>\n",
       "    </tr>\n",
       "  </tbody>\n",
       "</table>\n",
       "</div>"
      ],
      "text/plain": [
       "                                           Sequences  Target\n",
       "0  CCGAGGGCTATGGTTTGGAAGTTAGAACCCTGGGGCTTCTCGCGGA...       0\n",
       "1  GAGTTTATATGGCGCGAGCCTAGTGGTTTTTGTACTTGTTTGTCGC...       0\n",
       "2  GATCAGTAGGGAAACAAACAGAGGGCCCAGCCACATCTAGCAGGTA...       0\n",
       "3  GTCCACGACCGAACTCCCACCTTGACCGCAGAGGTACCACCAGAGC...       1\n",
       "4  GGCGACCGAACTCCAACTAGAACCTGCATAACTGGCCTGGGAGATA...       1"
      ]
     },
     "execution_count": 7,
     "metadata": {},
     "output_type": "execute_result"
    }
   ],
   "source": [
    "# show pandas data frame head\n",
    "seq_df.head()"
   ]
  },
  {
   "cell_type": "markdown",
   "metadata": {},
   "source": [
    "### Target variables setup"
   ]
  },
  {
   "cell_type": "code",
   "execution_count": 8,
   "metadata": {},
   "outputs": [
    {
     "data": {
      "text/plain": [
       "array([0, 0, 0, 1, ..., 1, 0, 1, 1])"
      ]
     },
     "execution_count": 8,
     "metadata": {},
     "output_type": "execute_result"
    }
   ],
   "source": [
    "# setup target a\n",
    "targA = seq_df['Target'].values; targA"
   ]
  },
  {
   "cell_type": "code",
   "execution_count": 9,
   "metadata": {},
   "outputs": [
    {
     "data": {
      "text/plain": [
       "array([1, 1, 1, 0, ..., 0, 1, 0, 0])"
      ]
     },
     "execution_count": 9,
     "metadata": {},
     "output_type": "execute_result"
    }
   ],
   "source": [
    "# setup target b = not(target a)\n",
    "targB = np.logical_not(seq_df['Target'].values).astype(int); targB"
   ]
  },
  {
   "cell_type": "code",
   "execution_count": 10,
   "metadata": {},
   "outputs": [
    {
     "data": {
      "text/plain": [
       "([[0, 1], [0, 1], [0, 1], [1, 0]], '...', [[1, 0], [0, 1], [1, 0], [1, 0]])"
      ]
     },
     "execution_count": 10,
     "metadata": {},
     "output_type": "execute_result"
    }
   ],
   "source": [
    "# zip together target a and target b to get target\n",
    "targ = [[a,b] for a, b in zip(targA, targB)]; targ[:4], '...', targ[-4:]#, len(targ)"
   ]
  },
  {
   "cell_type": "markdown",
   "metadata": {},
   "source": [
    "## Dataset setup for training with basic PyTorch"
   ]
  },
  {
   "cell_type": "markdown",
   "metadata": {},
   "source": [
    "### Setup sqeuence to array function"
   ]
  },
  {
   "cell_type": "code",
   "execution_count": 11,
   "metadata": {},
   "outputs": [],
   "source": [
    "# open sequence array function\n",
    "def open_seq_array(seq:str)->List:\n",
    "    \"Return `List` object with np.array created from sequence string `seq`.\"\n",
    "    \n",
    "    int_enc = LabelEncoder() # setup class instance to encode the four different bases to integer values (1D)\n",
    "    one_hot_enc = OneHotEncoder(categories=[range(4)]) # setup one hot encoder to encode integer encoded classes (1D) to one hot encoded array (4D)\n",
    "    \n",
    "    enc = int_enc.fit_transform(list(seq)) # bases (ACGT) to int (0,1,2,3)\n",
    "    enc = np.array(enc).reshape(-1,1) # reshape to get rank 2 array (from rank 1 array)\n",
    "    enc = one_hot_enc.fit_transform(enc) # encoded integer encoded bases to sparse matrix (sparse matrix dtype)\n",
    "    enc = enc.toarray().T # export sparse matrix to np array\n",
    "    \n",
    "    return enc"
   ]
  },
  {
   "cell_type": "code",
   "execution_count": 12,
   "metadata": {},
   "outputs": [
    {
     "data": {
      "text/plain": [
       "(array([[0., 0., 0., 1., ..., 0., 1., 0., 0.],\n",
       "        [1., 1., 0., 0., ..., 1., 0., 1., 1.],\n",
       "        [0., 0., 1., 0., ..., 0., 0., 0., 0.],\n",
       "        [0., 0., 0., 0., ..., 0., 0., 0., 0.]]), (4, 50))"
      ]
     },
     "execution_count": 12,
     "metadata": {},
     "output_type": "execute_result"
    }
   ],
   "source": [
    "# test open sequence function\n",
    "test_arr = open_seq_array('CCGAGGGCTATGGTTTGGAAGTTAGAACCCTGGGGCTTCTCGCGGACACC'); test_arr, test_arr.shape"
   ]
  },
  {
   "cell_type": "code",
   "execution_count": 13,
   "metadata": {},
   "outputs": [
    {
     "data": {
      "image/png": "[encoded data removed]",
      "text/plain": [
       "<Figure size 432x288 with 1 Axes>"
      ]
     },
     "metadata": {
      "needs_background": "light"
     },
     "output_type": "display_data"
    }
   ],
   "source": [
    "# visualize opened sequence as 2D image\n",
    "plt.imshow(test_arr)\n",
    "plt.axis('off');"
   ]
  },
  {
   "cell_type": "code",
   "execution_count": 14,
   "metadata": {},
   "outputs": [
    {
     "data": {
      "text/plain": [
       "tensor([[0., 0., 0., 1., 0., 0., 0., 0., 0., 1., 0., 0., 0., 0., 0., 0., 0., 0.,\n",
       "         1., 1., 0., 0., 0., 1., 0., 1., 1., 0., 0., 0., 0., 0., 0., 0., 0., 0.,\n",
       "         0., 0., 0., 0., 0., 0., 0., 0., 0., 1., 0., 1., 0., 0.],\n",
       "        [1., 1., 0., 0., 0., 0., 0., 1., 0., 0., 0., 0., 0., 0., 0., 0., 0., 0.,\n",
       "         0., 0., 0., 0., 0., 0., 0., 0., 0., 1., 1., 1., 0., 0., 0., 0., 0., 1.,\n",
       "         0., 0., 1., 0., 1., 0., 1., 0., 0., 0., 1., 0., 1., 1.],\n",
       "        [0., 0., 1., 0., 1., 1., 1., 0., 0., 0., 0., 1., 1., 0., 0., 0., 1., 1.,\n",
       "         0., 0., 1., 0., 0., 0., 1., 0., 0., 0., 0., 0., 0., 1., 1., 1., 1., 0.,\n",
       "         0., 0., 0., 0., 0., 1., 0., 1., 1., 0., 0., 0., 0., 0.],\n",
       "        [0., 0., 0., 0., 0., 0., 0., 0., 1., 0., 1., 0., 0., 1., 1., 1., 0., 0.,\n",
       "         0., 0., 0., 1., 1., 0., 0., 0., 0., 0., 0., 0., 1., 0., 0., 0., 0., 0.,\n",
       "         1., 1., 0., 1., 0., 0., 0., 0., 0., 0., 0., 0., 0., 0.]])"
      ]
     },
     "execution_count": 14,
     "metadata": {},
     "output_type": "execute_result"
    }
   ],
   "source": [
    "test_ten = tensor(test_arr).type(torch.float); test_ten"
   ]
  },
  {
   "cell_type": "code",
   "execution_count": 15,
   "metadata": {},
   "outputs": [],
   "source": [
    "# run test data through network\n",
    "#net_basic(test_ten[None])"
   ]
  },
  {
   "cell_type": "markdown",
   "metadata": {},
   "source": [
    "### Setup datasets"
   ]
  },
  {
   "cell_type": "code",
   "execution_count": 16,
   "metadata": {},
   "outputs": [
    {
     "data": {
      "text/plain": [
       "2000"
      ]
     },
     "execution_count": 16,
     "metadata": {},
     "output_type": "execute_result"
    }
   ],
   "source": [
    "# generate sequence array float tensor for every sequence in pandas data frame column Sequences (x data)\n",
    "x = [tensor(open_seq_array(s)).type(torch.float) for s in seq_df['Sequences'].values]; len(x)"
   ]
  },
  {
   "cell_type": "code",
   "execution_count": 17,
   "metadata": {},
   "outputs": [
    {
     "data": {
      "text/plain": [
       "torch.Size([2000, 4, 50])"
      ]
     },
     "execution_count": 17,
     "metadata": {},
     "output_type": "execute_result"
    }
   ],
   "source": [
    "# stack all tensors together in a single tensor\n",
    "x = torch.stack(x); x.shape"
   ]
  },
  {
   "cell_type": "code",
   "execution_count": 18,
   "metadata": {},
   "outputs": [
    {
     "data": {
      "text/plain": [
       "tensor([[0., 1.],\n",
       "        [0., 1.],\n",
       "        [0., 1.],\n",
       "        ...,\n",
       "        [0., 1.],\n",
       "        [1., 0.],\n",
       "        [1., 0.]])"
      ]
     },
     "execution_count": 18,
     "metadata": {},
     "output_type": "execute_result"
    }
   ],
   "source": [
    "# setup target data floar tensor (y data)\n",
    "y = tensor(targ).view(-1,2).type(torch.float); y # multi-label\n",
    "#y = tensor(targA).type(torch.float); y # classification with single label"
   ]
  },
  {
   "cell_type": "code",
   "execution_count": 19,
   "metadata": {},
   "outputs": [
    {
     "data": {
      "text/plain": [
       "(2000, 2000)"
      ]
     },
     "execution_count": 19,
     "metadata": {},
     "output_type": "execute_result"
    }
   ],
   "source": [
    "# verify total dataset length\n",
    "len(x), len(y)"
   ]
  },
  {
   "cell_type": "code",
   "execution_count": 20,
   "metadata": {},
   "outputs": [
    {
     "data": {
      "text/plain": [
       "(tensor([[0., 1., 0., 0., 1., 0., 0., 1., 0., 0., 0., 1., 1., 1., 0., 1., 1., 1.,\n",
       "          0., 1., 0., 1., 0., 0., 0., 0., 0., 0., 1., 0., 0., 0., 1., 0., 1., 0.,\n",
       "          0., 0., 1., 0., 0., 1., 0., 0., 0., 1., 0., 0., 0., 0.],\n",
       "         [0., 0., 0., 1., 0., 0., 0., 0., 0., 0., 0., 0., 0., 0., 1., 0., 0., 0.,\n",
       "          1., 0., 0., 0., 0., 0., 0., 1., 1., 1., 0., 0., 1., 1., 0., 1., 0., 0.,\n",
       "          1., 0., 0., 0., 1., 0., 0., 0., 0., 0., 0., 1., 1., 0.],\n",
       "         [1., 0., 0., 0., 0., 1., 0., 0., 1., 1., 1., 0., 0., 0., 0., 0., 0., 0.,\n",
       "          0., 0., 1., 0., 1., 1., 1., 0., 0., 0., 0., 1., 0., 0., 0., 0., 0., 0.,\n",
       "          0., 0., 0., 1., 0., 0., 1., 1., 0., 0., 1., 0., 0., 0.],\n",
       "         [0., 0., 1., 0., 0., 0., 1., 0., 0., 0., 0., 0., 0., 0., 0., 0., 0., 0.,\n",
       "          0., 0., 0., 0., 0., 0., 0., 0., 0., 0., 0., 0., 0., 0., 0., 0., 0., 1.,\n",
       "          0., 1., 0., 0., 0., 0., 0., 0., 1., 0., 0., 0., 0., 1.]]),\n",
       " tensor([0., 1.]))"
      ]
     },
     "execution_count": 20,
     "metadata": {},
     "output_type": "execute_result"
    }
   ],
   "source": [
    "# check x and y data\n",
    "i = 2\n",
    "x[i], y[i]"
   ]
  },
  {
   "cell_type": "code",
   "execution_count": 21,
   "metadata": {},
   "outputs": [],
   "source": [
    "# split dataset into train and valid TensorDataset for NN training\n",
    "train_ds = TensorDataset(x[:1500],y[:1500]) # FIRST 1500 data points\n",
    "valid_ds = TensorDataset(x[-500:],y[-500:])"
   ]
  },
  {
   "cell_type": "code",
   "execution_count": 22,
   "metadata": {},
   "outputs": [],
   "source": [
    "# split dataset into train and valid TensorDataset for NN training\n",
    "train_ds = TensorDataset(x[500:],y[500:]) # LAST 1500 data points\n",
    "valid_ds = TensorDataset(x[:500],y[:500])"
   ]
  },
  {
   "cell_type": "code",
   "execution_count": 23,
   "metadata": {},
   "outputs": [
    {
     "data": {
      "text/plain": [
       "(1500, 500)"
      ]
     },
     "execution_count": 23,
     "metadata": {},
     "output_type": "execute_result"
    }
   ],
   "source": [
    "# verify train and valid dataset length\n",
    "len(train_ds), len(valid_ds)"
   ]
  },
  {
   "cell_type": "markdown",
   "metadata": {},
   "source": [
    "# Model setup"
   ]
  },
  {
   "cell_type": "markdown",
   "metadata": {},
   "source": [
    "## Basic model for PyTorch training"
   ]
  },
  {
   "cell_type": "code",
   "execution_count": 96,
   "metadata": {},
   "outputs": [],
   "source": [
    "# set dropout\n",
    "drop_p = 0.2"
   ]
  },
  {
   "cell_type": "code",
   "execution_count": 97,
   "metadata": {},
   "outputs": [],
   "source": [
    "# inplace=True seems to generate problems?"
   ]
  },
  {
   "cell_type": "code",
   "execution_count": 98,
   "metadata": {},
   "outputs": [],
   "source": [
    "net_basic = nn.Sequential(nn.Conv1d(in_channels=4, out_channels=32, kernel_size=12),\n",
    "                    nn.MaxPool1d(kernel_size=4),\n",
    "                    Flatten(),\n",
    "                    nn.Dropout(drop_p),\n",
    "                    nn.Linear(in_features=288, out_features=16),\n",
    "                    nn.ReLU(),\n",
    "                    nn.Dropout(drop_p),\n",
    "                    nn.Linear(in_features=16, out_features=2),\n",
    "                    #Debugger() # optional debugger layer\n",
    "                   )"
   ]
  },
  {
   "cell_type": "code",
   "execution_count": 99,
   "metadata": {},
   "outputs": [
    {
     "data": {
      "text/plain": [
       "Sequential(\n",
       "  (0): Conv1d(4, 32, kernel_size=(12,), stride=(1,))\n",
       "  (1): MaxPool1d(kernel_size=4, stride=4, padding=0, dilation=1, ceil_mode=False)\n",
       "  (2): Lambda()\n",
       "  (3): Dropout(p=0.2)\n",
       "  (4): Linear(in_features=288, out_features=16, bias=True)\n",
       "  (5): ReLU()\n",
       "  (6): Dropout(p=0.2)\n",
       "  (7): Linear(in_features=16, out_features=2, bias=True)\n",
       ")"
      ]
     },
     "execution_count": 99,
     "metadata": {},
     "output_type": "execute_result"
    }
   ],
   "source": [
    "# check network architecture\n",
    "net_basic"
   ]
  },
  {
   "cell_type": "code",
   "execution_count": 90,
   "metadata": {},
   "outputs": [],
   "source": [
    "# initialize weights with kaiming normal initialization\n",
    "apply_init(net_basic, nn.init.kaiming_normal_)"
   ]
  },
  {
   "cell_type": "markdown",
   "metadata": {},
   "source": [
    "# Model training"
   ]
  },
  {
   "cell_type": "markdown",
   "metadata": {},
   "source": [
    "## Train basic model with PyTorch"
   ]
  },
  {
   "cell_type": "code",
   "execution_count": 100,
   "metadata": {},
   "outputs": [],
   "source": [
    "# set batch size\n",
    "bs = 64"
   ]
  },
  {
   "cell_type": "code",
   "execution_count": 101,
   "metadata": {},
   "outputs": [],
   "source": [
    "# setup DataLoader for NN training from TensorDatasets for NN training\n",
    "train_dl = DataLoader(train_ds, batch_size=bs, shuffle=True)\n",
    "valid_dl = DataLoader(valid_ds, batch_size=bs*2, shuffle=False)"
   ]
  },
  {
   "cell_type": "code",
   "execution_count": 102,
   "metadata": {},
   "outputs": [],
   "source": [
    "# set optimizer type, parameters, and hyperparameters\n",
    "opt = optim.SGD(net_basic.parameters(), lr=1e-3, momentum=0.9)"
   ]
  },
  {
   "cell_type": "code",
   "execution_count": 103,
   "metadata": {},
   "outputs": [],
   "source": [
    "# training loop extended from https://github.com/fastai/fastai_docs/blob/master/dev_nb/mnist_sample.py\n",
    "\n",
    "\n",
    "# simple loss function for batch\n",
    "def simple_loss_batch(model, loss_func, xb, yb, opt=None):\n",
    "    loss = loss_func(model(xb), yb)\n",
    "\n",
    "    if opt is not None:\n",
    "        loss.backward()\n",
    "        opt.step()\n",
    "        opt.zero_grad()\n",
    "\n",
    "    return loss.item(), len(xb)\n",
    "\n",
    "\n",
    "# simple fit function\n",
    "def simple_fit(epochs, model, loss_func, opt, train_dl, valid_dl):\n",
    "    \n",
    "    epoch_list = []\n",
    "    train_loss_list = []\n",
    "    valid_loss_list = []\n",
    "    acc_list = []\n",
    "    y_hat_list = []\n",
    "    y_true_list = []\n",
    "    \n",
    "    print('epoch\\ttrain loss\\tvalid loss\\taccuaracy')\n",
    "    \n",
    "    for epoch in range(epochs):\n",
    "        \n",
    "        model.train()\n",
    "        train_losses, train_nums = zip(*[simple_loss_batch(model, loss_func, xb, yb, opt) for xb, yb in train_dl])\n",
    "        \n",
    "        # loss calculation for every epoch\n",
    "        train_loss = np.sum(np.multiply(train_losses, train_nums)) / np.sum(train_nums)\n",
    "        train_loss_list.append(train_loss)\n",
    "        \n",
    "        model.eval()\n",
    "        with torch.no_grad():\n",
    "            valid_losses, valid_nums = zip(*[simple_loss_batch(model, loss_func, xb, yb)\n",
    "                                for xb,yb in valid_dl])\n",
    "            \n",
    "            # calculations for accuracy_thres metric:          \n",
    "            y_hat = [model(xb) for xb, _ in valid_dl]\n",
    "            y_true = [yb for _, yb in valid_dl]\n",
    "            \n",
    "            y_hat_list.append(torch.cat(y_hat).cpu().numpy())\n",
    "            y_true_list.append(torch.cat(y_true).cpu().numpy())\n",
    "            \n",
    "            \n",
    "        valid_loss = np.sum(np.multiply(valid_losses, valid_nums)) / np.sum(valid_nums)\n",
    "        acc = accuracy_thresh(torch.cat(y_hat), torch.cat(y_true))\n",
    "        \n",
    "        epoch_list.append(epoch)\n",
    "        valid_loss_list.append(valid_loss)\n",
    "        acc_list.append(acc.item())\n",
    "        \n",
    "        print(f'{epoch}\\t{train_loss:.6f}\\t{valid_loss:.6f}\\t{acc.detach().item():.3f}')\n",
    "    \n",
    "    # print training (https://matplotlib.org/tutorials/introductory/usage.html#sphx-glr-tutorials-introductory-usage-py)\n",
    "    #pdb.set_trace()\n",
    "    plt.subplot(2,1,1)\n",
    "    plt.title('Training')\n",
    "    plt.ylabel('Loss')\n",
    "    plt.plot(train_loss_list, label='Train loss')\n",
    "    plt.plot(valid_loss_list, label='Valid loss')\n",
    "    plt.legend(loc=1)\n",
    "    \n",
    "    plt.subplot(2,1,2)\n",
    "    plt.xlabel('Training batch')\n",
    "    plt.ylabel('Accuracy')\n",
    "    plt.plot(acc_list, label='Accuracy metric')\n",
    "    plt.legend(loc=1)\n",
    "    \n",
    "    plt.show()\n",
    "    \n",
    "    #pdb.set_trace()\n",
    "    \n",
    "    return epoch_list, train_loss_list, valid_loss_list, acc_list, y_hat_list, y_true_list"
   ]
  },
  {
   "cell_type": "code",
   "execution_count": 104,
   "metadata": {},
   "outputs": [
    {
     "name": "stdout",
     "output_type": "stream",
     "text": [
      "epoch\ttrain loss\tvalid loss\taccuaracy\n",
      "0\t0.694222\t0.695738\t0.476\n",
      "1\t0.693519\t0.695121\t0.486\n",
      "2\t0.693069\t0.694395\t0.508\n",
      "3\t0.691722\t0.693777\t0.513\n",
      "4\t0.692202\t0.693209\t0.521\n",
      "5\t0.691258\t0.692685\t0.524\n",
      "6\t0.690921\t0.691937\t0.534\n",
      "7\t0.691045\t0.691363\t0.537\n",
      "8\t0.690861\t0.690807\t0.546\n",
      "9\t0.689642\t0.690297\t0.555\n",
      "10\t0.689251\t0.689815\t0.565\n",
      "11\t0.687875\t0.689231\t0.570\n",
      "12\t0.686911\t0.688471\t0.583\n",
      "13\t0.687394\t0.687868\t0.591\n",
      "14\t0.686514\t0.687217\t0.609\n",
      "15\t0.685469\t0.686604\t0.614\n",
      "16\t0.685616\t0.685909\t0.610\n",
      "17\t0.684902\t0.685263\t0.615\n",
      "18\t0.684276\t0.684609\t0.617\n",
      "19\t0.683051\t0.683790\t0.613\n",
      "20\t0.683000\t0.682929\t0.614\n",
      "21\t0.682143\t0.682141\t0.618\n",
      "22\t0.681432\t0.681397\t0.622\n",
      "23\t0.678602\t0.680407\t0.623\n",
      "24\t0.680064\t0.679440\t0.621\n",
      "25\t0.679956\t0.678381\t0.625\n",
      "26\t0.677532\t0.677434\t0.630\n",
      "27\t0.676672\t0.676419\t0.640\n",
      "28\t0.676126\t0.675386\t0.662\n",
      "29\t0.673430\t0.674054\t0.659\n",
      "30\t0.672878\t0.672758\t0.667\n",
      "31\t0.672011\t0.671259\t0.665\n",
      "32\t0.669940\t0.669668\t0.659\n",
      "33\t0.667821\t0.668107\t0.667\n",
      "34\t0.664912\t0.666099\t0.659\n",
      "35\t0.664551\t0.664352\t0.666\n",
      "36\t0.664129\t0.662225\t0.670\n",
      "37\t0.661758\t0.660346\t0.677\n",
      "38\t0.656489\t0.658044\t0.679\n",
      "39\t0.655833\t0.655525\t0.676\n",
      "40\t0.653618\t0.652955\t0.680\n",
      "41\t0.650208\t0.650386\t0.696\n",
      "42\t0.650381\t0.647420\t0.692\n",
      "43\t0.648084\t0.644640\t0.709\n",
      "44\t0.641679\t0.641368\t0.710\n",
      "45\t0.639070\t0.638061\t0.718\n",
      "46\t0.634926\t0.634361\t0.715\n",
      "47\t0.632366\t0.630884\t0.735\n",
      "48\t0.627536\t0.626566\t0.719\n",
      "49\t0.622901\t0.622494\t0.727\n",
      "50\t0.619619\t0.618265\t0.739\n",
      "51\t0.615184\t0.613723\t0.735\n",
      "52\t0.609325\t0.609483\t0.769\n",
      "53\t0.606594\t0.604512\t0.765\n",
      "54\t0.604054\t0.599553\t0.766\n",
      "55\t0.596065\t0.594620\t0.772\n",
      "56\t0.594460\t0.589350\t0.777\n",
      "57\t0.585098\t0.584272\t0.786\n",
      "58\t0.579201\t0.578407\t0.782\n",
      "59\t0.574930\t0.572841\t0.787\n",
      "60\t0.570162\t0.567380\t0.791\n",
      "61\t0.567779\t0.561880\t0.796\n",
      "62\t0.561186\t0.555433\t0.795\n",
      "63\t0.554286\t0.549111\t0.795\n",
      "64\t0.544096\t0.543309\t0.811\n",
      "65\t0.539315\t0.536085\t0.801\n",
      "66\t0.529294\t0.529415\t0.805\n",
      "67\t0.524270\t0.522611\t0.814\n",
      "68\t0.522201\t0.515779\t0.819\n",
      "69\t0.513689\t0.509575\t0.826\n",
      "70\t0.505873\t0.501390\t0.824\n",
      "71\t0.497414\t0.494311\t0.832\n",
      "72\t0.490741\t0.486686\t0.832\n",
      "73\t0.485485\t0.479256\t0.836\n",
      "74\t0.476822\t0.472005\t0.843\n",
      "75\t0.469124\t0.463912\t0.840\n",
      "76\t0.465801\t0.456313\t0.854\n",
      "77\t0.451328\t0.448350\t0.855\n",
      "78\t0.446896\t0.440338\t0.857\n",
      "79\t0.440696\t0.432653\t0.860\n",
      "80\t0.433816\t0.425793\t0.862\n",
      "81\t0.429183\t0.417571\t0.870\n",
      "82\t0.413821\t0.410129\t0.872\n",
      "83\t0.407221\t0.402355\t0.872\n",
      "84\t0.404904\t0.395205\t0.876\n",
      "85\t0.393197\t0.387507\t0.878\n",
      "86\t0.389764\t0.381109\t0.878\n",
      "87\t0.393883\t0.374057\t0.879\n",
      "88\t0.369313\t0.367231\t0.881\n",
      "89\t0.371093\t0.360113\t0.884\n",
      "90\t0.365672\t0.353798\t0.885\n",
      "91\t0.350463\t0.347698\t0.888\n",
      "92\t0.341844\t0.340967\t0.888\n",
      "93\t0.350419\t0.334646\t0.894\n",
      "94\t0.335820\t0.328910\t0.891\n",
      "95\t0.331956\t0.322893\t0.902\n",
      "96\t0.320030\t0.317673\t0.892\n",
      "97\t0.321020\t0.311269\t0.899\n",
      "98\t0.322001\t0.307216\t0.895\n",
      "99\t0.312295\t0.301597\t0.897\n"
     ]
    },
    {
     "data": {
      "image/png": "[encoded data removed]",
      "text/plain": [
       "<Figure size 432x288 with 2 Axes>"
      ]
     },
     "metadata": {
      "needs_background": "light"
     },
     "output_type": "display_data"
    }
   ],
   "source": [
    "epoch_list, train_loss_list, valid_loss_list, acc_list, y_hat_list, y_true_list = \\\n",
    "simple_fit(100, net_basic, F.binary_cross_entropy_with_logits, opt, train_dl, valid_dl)"
   ]
  },
  {
   "cell_type": "code",
   "execution_count": 105,
   "metadata": {},
   "outputs": [],
   "source": [
    "cnf_matrix = confusion_matrix(np.concatenate(y_true_list)[:,0], (np.concatenate(y_hat_list)>0).astype('int')[:,0])"
   ]
  },
  {
   "cell_type": "code",
   "execution_count": 106,
   "metadata": {},
   "outputs": [],
   "source": [
    "# From https://scikit-learn.org/stable/auto_examples/model_selection/plot_confusion_matrix.html#sphx-glr-auto-examples-model-selection-plot-confusion-matrix-py\n",
    "\n",
    "def plot_confusion_matrix(cm, classes,\n",
    "                          normalize=False,\n",
    "                          title='Confusion matrix',\n",
    "                          cmap=plt.cm.Blues):\n",
    "    \"\"\"\n",
    "    This function prints and plots the confusion matrix.\n",
    "    Normalization can be applied by setting `normalize=True`.\n",
    "    \"\"\"\n",
    "    if normalize:\n",
    "        cm = cm.astype('float') / cm.sum(axis=1)[:, np.newaxis]\n",
    "        print(\"Normalized confusion matrix\")\n",
    "    else:\n",
    "        print('Confusion matrix, without normalization')\n",
    "\n",
    "    print(cm)\n",
    "\n",
    "    plt.imshow(cm, interpolation='nearest', cmap=cmap)\n",
    "    plt.title(title)\n",
    "    plt.colorbar()\n",
    "    tick_marks = np.arange(len(classes))\n",
    "    plt.xticks(tick_marks, classes, rotation=45)\n",
    "    plt.yticks(tick_marks, classes)\n",
    "\n",
    "    fmt = '.2f' if normalize else 'd'\n",
    "    thresh = cm.max() / 2.\n",
    "    for i, j in itertools.product(range(cm.shape[0]), range(cm.shape[1])):\n",
    "        plt.text(j, i, format(cm[i, j], fmt),\n",
    "                 horizontalalignment=\"center\",\n",
    "                 color=\"white\" if cm[i, j] > thresh else \"black\")\n",
    "\n",
    "    plt.ylabel('True label')\n",
    "    plt.xlabel('Predicted label')\n",
    "    plt.tight_layout()"
   ]
  },
  {
   "cell_type": "code",
   "execution_count": 107,
   "metadata": {},
   "outputs": [
    {
     "name": "stdout",
     "output_type": "stream",
     "text": [
      "Confusion matrix, without normalization\n",
      "[[21482  4718]\n",
      " [ 9406 14394]]\n"
     ]
    },
    {
     "data": {
      "image/png": "[encoded data removed]",
      "text/plain": [
       "<Figure size 432x288 with 2 Axes>"
      ]
     },
     "metadata": {
      "needs_background": "light"
     },
     "output_type": "display_data"
    }
   ],
   "source": [
    "plot_confusion_matrix(cnf_matrix, classes=[0,1])"
   ]
  },
  {
   "cell_type": "code",
   "execution_count": 108,
   "metadata": {},
   "outputs": [
    {
     "name": "stdout",
     "output_type": "stream",
     "text": [
      "Normalized confusion matrix\n",
      "[[0.819924 0.180076]\n",
      " [0.39521  0.60479 ]]\n"
     ]
    },
    {
     "data": {
      "image/png": "[encoded data removed]",
      "text/plain": [
       "<Figure size 432x288 with 2 Axes>"
      ]
     },
     "metadata": {
      "needs_background": "light"
     },
     "output_type": "display_data"
    }
   ],
   "source": [
    "plot_confusion_matrix(cnf_matrix, classes=[0,1], normalize=True)"
   ]
  },
  {
   "cell_type": "code",
   "execution_count": 109,
   "metadata": {},
   "outputs": [
    {
     "name": "stdout",
     "output_type": "stream",
     "text": [
      "epoch\ttrain loss\tvalid loss\taccuaracy\n",
      "0\t0.304433\t0.295522\t0.907\n",
      "1\t0.300858\t0.291783\t0.902\n",
      "2\t0.297874\t0.285750\t0.910\n",
      "3\t0.299339\t0.281660\t0.908\n",
      "4\t0.287686\t0.276749\t0.909\n",
      "5\t0.294374\t0.273198\t0.909\n",
      "6\t0.283189\t0.268968\t0.910\n",
      "7\t0.286653\t0.263975\t0.913\n",
      "8\t0.271865\t0.260919\t0.913\n",
      "9\t0.267071\t0.255737\t0.914\n",
      "10\t0.254884\t0.251625\t0.915\n",
      "11\t0.259390\t0.247457\t0.915\n",
      "12\t0.257554\t0.246577\t0.917\n",
      "13\t0.245631\t0.241936\t0.915\n",
      "14\t0.250108\t0.239530\t0.919\n",
      "15\t0.240492\t0.233500\t0.919\n",
      "16\t0.235995\t0.230430\t0.920\n",
      "17\t0.231895\t0.228925\t0.922\n",
      "18\t0.225211\t0.223859\t0.923\n",
      "19\t0.229606\t0.223237\t0.925\n",
      "20\t0.217485\t0.217387\t0.923\n",
      "21\t0.220375\t0.214575\t0.926\n",
      "22\t0.218546\t0.212840\t0.929\n",
      "23\t0.224213\t0.209446\t0.927\n",
      "24\t0.227428\t0.207487\t0.926\n",
      "25\t0.206433\t0.205036\t0.928\n",
      "26\t0.213943\t0.204338\t0.930\n",
      "27\t0.200320\t0.199454\t0.929\n",
      "28\t0.209334\t0.197659\t0.930\n",
      "29\t0.206235\t0.195923\t0.930\n",
      "30\t0.202274\t0.193687\t0.933\n",
      "31\t0.203532\t0.191406\t0.934\n",
      "32\t0.200202\t0.190316\t0.936\n",
      "33\t0.201764\t0.187595\t0.935\n",
      "34\t0.196619\t0.187278\t0.934\n",
      "35\t0.187045\t0.183769\t0.938\n",
      "36\t0.192743\t0.182196\t0.938\n",
      "37\t0.184870\t0.178925\t0.935\n",
      "38\t0.185058\t0.179830\t0.942\n",
      "39\t0.184598\t0.175455\t0.936\n",
      "40\t0.173776\t0.174146\t0.939\n",
      "41\t0.165177\t0.172204\t0.939\n",
      "42\t0.178341\t0.169955\t0.942\n",
      "43\t0.176799\t0.168768\t0.944\n",
      "44\t0.169154\t0.172153\t0.941\n",
      "45\t0.169707\t0.166348\t0.944\n",
      "46\t0.161116\t0.164820\t0.949\n",
      "47\t0.168693\t0.167292\t0.942\n",
      "48\t0.172523\t0.162663\t0.946\n",
      "49\t0.169571\t0.161583\t0.948\n",
      "50\t0.161971\t0.160192\t0.946\n",
      "51\t0.160429\t0.158464\t0.951\n",
      "52\t0.161642\t0.158196\t0.943\n",
      "53\t0.148734\t0.155804\t0.952\n",
      "54\t0.166915\t0.157587\t0.942\n",
      "55\t0.163627\t0.154601\t0.949\n",
      "56\t0.150587\t0.155916\t0.941\n",
      "57\t0.158432\t0.151608\t0.954\n",
      "58\t0.154330\t0.150505\t0.953\n",
      "59\t0.154275\t0.153729\t0.940\n",
      "60\t0.142802\t0.148526\t0.953\n",
      "61\t0.157795\t0.147329\t0.954\n",
      "62\t0.145131\t0.147871\t0.951\n",
      "63\t0.146706\t0.145618\t0.956\n",
      "64\t0.144037\t0.146369\t0.949\n",
      "65\t0.151470\t0.146819\t0.945\n",
      "66\t0.136995\t0.142847\t0.958\n",
      "67\t0.137883\t0.142801\t0.954\n",
      "68\t0.139338\t0.142872\t0.951\n",
      "69\t0.137459\t0.140670\t0.956\n",
      "70\t0.143877\t0.140744\t0.952\n",
      "71\t0.135232\t0.139196\t0.956\n",
      "72\t0.135298\t0.137887\t0.958\n",
      "73\t0.136378\t0.137930\t0.954\n",
      "74\t0.138816\t0.136840\t0.956\n",
      "75\t0.129663\t0.135264\t0.958\n",
      "76\t0.125267\t0.135494\t0.957\n",
      "77\t0.127975\t0.133009\t0.959\n",
      "78\t0.132843\t0.133449\t0.956\n",
      "79\t0.128171\t0.133982\t0.959\n",
      "80\t0.127459\t0.130704\t0.960\n",
      "81\t0.129331\t0.130088\t0.959\n",
      "82\t0.130411\t0.130875\t0.956\n",
      "83\t0.122927\t0.132964\t0.959\n",
      "84\t0.123464\t0.128636\t0.960\n",
      "85\t0.124239\t0.127542\t0.959\n",
      "86\t0.134634\t0.127646\t0.961\n",
      "87\t0.115869\t0.127349\t0.959\n",
      "88\t0.120300\t0.125987\t0.959\n",
      "89\t0.115645\t0.125750\t0.960\n",
      "90\t0.115870\t0.125944\t0.957\n",
      "91\t0.121126\t0.128536\t0.960\n",
      "92\t0.119672\t0.123487\t0.961\n",
      "93\t0.106539\t0.122730\t0.961\n",
      "94\t0.118286\t0.122656\t0.961\n",
      "95\t0.110948\t0.122324\t0.959\n",
      "96\t0.108884\t0.121707\t0.960\n",
      "97\t0.117829\t0.120869\t0.961\n",
      "98\t0.115287\t0.120569\t0.960\n",
      "99\t0.111039\t0.119513\t0.961\n"
     ]
    },
    {
     "data": {
      "image/png": "[encoded data removed]",
      "text/plain": [
       "<Figure size 432x288 with 2 Axes>"
      ]
     },
     "metadata": {
      "needs_background": "light"
     },
     "output_type": "display_data"
    }
   ],
   "source": [
    "epoch_list, train_loss_list, valid_loss_list, acc_list, y_hat_list, y_true_list = \\\n",
    "simple_fit(100, net_basic, F.binary_cross_entropy_with_logits, opt, train_dl, valid_dl)"
   ]
  },
  {
   "cell_type": "code",
   "execution_count": 111,
   "metadata": {},
   "outputs": [],
   "source": [
    "cnf_matrix2 = confusion_matrix(np.concatenate(y_true_list)[:,0], (np.concatenate(y_hat_list)>0).astype('int')[:,0])"
   ]
  },
  {
   "cell_type": "code",
   "execution_count": 112,
   "metadata": {},
   "outputs": [
    {
     "name": "stdout",
     "output_type": "stream",
     "text": [
      "Normalized confusion matrix\n",
      "[[0.937824 0.062176]\n",
      " [0.05521  0.94479 ]]\n"
     ]
    },
    {
     "data": {
      "image/png": "[encoded data removed]",
      "text/plain": [
       "<Figure size 432x288 with 2 Axes>"
      ]
     },
     "metadata": {
      "needs_background": "light"
     },
     "output_type": "display_data"
    }
   ],
   "source": [
    "plot_confusion_matrix(cnf_matrix2, classes=[0,1], normalize=True)"
   ]
  },
  {
   "cell_type": "code",
   "execution_count": null,
   "metadata": {},
   "outputs": [],
   "source": []
  }
 ],
 "metadata": {
  "kernelspec": {
   "display_name": "Python 3",
   "language": "python",
   "name": "python3"
  },
  "language_info": {
   "codemirror_mode": {
    "name": "ipython",
    "version": 3
   },
   "file_extension": ".py",
   "mimetype": "text/x-python",
   "name": "python",
   "nbconvert_exporter": "python",
   "pygments_lexer": "ipython3",
   "version": "3.6.6"
  }
 },
 "nbformat": 4,
 "nbformat_minor": 2
}
